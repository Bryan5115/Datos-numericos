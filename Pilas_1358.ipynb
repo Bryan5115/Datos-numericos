{
  "nbformat": 4,
  "nbformat_minor": 0,
  "metadata": {
    "colab": {
      "name": "Pilas_1358.ipynb",
      "provenance": [],
      "collapsed_sections": [],
      "authorship_tag": "ABX9TyPtI9XCgbtl82ldBeZU7Cjy",
      "include_colab_link": true
    },
    "kernelspec": {
      "name": "python3",
      "display_name": "Python 3"
    },
    "language_info": {
      "name": "python"
    }
  },
  "cells": [
    {
      "cell_type": "markdown",
      "metadata": {
        "id": "view-in-github",
        "colab_type": "text"
      },
      "source": [
        "<a href=\"https://colab.research.google.com/github/Bryan5115/Datos-numericos/blob/main/Pilas_1358.ipynb\" target=\"_parent\"><img src=\"https://colab.research.google.com/assets/colab-badge.svg\" alt=\"Open In Colab\"/></a>"
      ]
    },
    {
      "cell_type": "code",
      "metadata": {
        "id": "IV7ldwsKTSKl"
      },
      "source": [
        "class StackADT:\n",
        "    def __init__( self ):\n",
        "        self.data = list()\n",
        "        self.tope = 0\n",
        "\n",
        "    def is_empty(self):\n",
        "        return self.tope == 0 \n",
        "\n",
        "    def lenght(self):\n",
        "        return self.tope \n",
        "\n",
        "    def pop(self):\n",
        "        if not self.is_empty():\n",
        "            self.tope -= 1\n",
        "            return self.data.pop()\n",
        "\n",
        "    def peek(self):\n",
        "        return self.data[self.tope -1]\n",
        "\n",
        "    def push( self, value ):\n",
        "        self.data.append(value)\n",
        "        self.tope += 1\n",
        "\n",
        "    def to_string(self):\n",
        "        print(\"Estado de las pilas\")\n",
        "        for elem in self.data[::-1]:\n",
        "            print(f\"| {elem} |\")"
      ],
      "execution_count": 2,
      "outputs": []
    },
    {
      "cell_type": "code",
      "metadata": {
        "colab": {
          "base_uri": "https://localhost:8080/"
        },
        "id": "ZjE_wWZmYlxa",
        "outputId": "09303e93-fda0-48df-f9ea-f5e4dc718c03"
      },
      "source": [
        "pila = StackADT()\n",
        "pila.push(10)\n",
        "pila.push(20)\n",
        "pila.push(30)\n",
        "pila.to_string()\n",
        "\n",
        "print('llamada a peek' , pila.peek() )\n",
        "\n",
        "print('llamada a pop' , pila.pop() )\n",
        "pila.to_string()\n",
        "pila.push(25)\n",
        "pila.push(26)\n",
        "\n",
        "print(\"despues de meter 25 y 26\")\n",
        "pila.to_string()\n",
        "print(f'La pila tiene {pila.lenght()} elementos')\n",
        "pila.pop()\n",
        "pila.pop()\n",
        "pila.pop()\n",
        "pila.pop()\n",
        "print(f'La pila tiene {pila.lenght()} elementos')"
      ],
      "execution_count": 3,
      "outputs": [
        {
          "output_type": "stream",
          "name": "stdout",
          "text": [
            "Estado de las pilas\n",
            "| 30 |\n",
            "| 20 |\n",
            "| 10 |\n",
            "llamada a peek 30\n",
            "llamada a pop 30\n",
            "Estado de las pilas\n",
            "| 20 |\n",
            "| 10 |\n",
            "despues de meter 25 y 26\n",
            "Estado de las pilas\n",
            "| 26 |\n",
            "| 25 |\n",
            "| 20 |\n",
            "| 10 |\n",
            "La pila tiene 4 elementos\n",
            "La pila tiene 0 elementos\n"
          ]
        }
      ]
    },
    {
      "cell_type": "code",
      "metadata": {
        "id": "JAX3d5CSfd7c"
      },
      "source": [
        "class Array2D():\n",
        "  def __init__(self, ren, col):\n",
        "    self.__columnas = col\n",
        "    self.__renglones = ren\n",
        "    self.__data = [[ 0 for i in range(col)]for i in range (ren)]\n",
        "\n",
        "  def to_string(self):\n",
        "    for i in range(self.__renglones):\n",
        "      print(self.__data[i])\n",
        "\n",
        "  def clear(self, dato):\n",
        "    for i in range (self.__renglones):\n",
        "      for x in range(self.__columnas):\n",
        "        self.__data[i][x] = dato\n",
        "\n",
        "  def get_row_size(self):\n",
        "    return self.__renglones\n",
        "\n",
        "  def get_col_size(self):\n",
        "    return self.__columnas\n",
        "\n",
        "  def set_item(self,ren,col,dato):\n",
        "    self.__data[ren][col] = dato\n",
        "\n",
        "  def get_item(self,ren,col):\n",
        "    return self.__data[ren][col]"
      ],
      "execution_count": 1,
      "outputs": []
    },
    {
      "cell_type": "code",
      "metadata": {
        "id": "_7TBP823qQlf"
      },
      "source": [
        "class LaberintoADT:\n",
        "    def __init__(self, archivo):\n",
        "      self.laberinto = None #Array2D\n",
        "      self.salida = None\n",
        "      self.entrada = None\n",
        "      self.camino = StackADT()\n",
        "      self.inicializa(archivo)\n",
        "      self.laberinto.to_string()\n",
        "      print(\"Stack\")\n",
        "      self.camino.to_string\n",
        "\n",
        "      \"\"\"\n",
        "      P --> PARED\n",
        "      C--> CORREDOR\n",
        "      E --> ENTRADA\n",
        "      S --> SALIDA\n",
        "      X --> YA VISITADO\n",
        "      \"\"\"\n",
        "    def inicializa(self, archivo):\n",
        "        entrada = open(archivo, 'rt')\n",
        "        self.laberinto = Array2D(int(entrada.readline().strip()), int(entrada.readline().strip()) )\n",
        "        self.laberinto.clear('P')\n",
        "        lineas = entrada.readlines()\n",
        "        #print(\"Lineas: \")\n",
        "        #print(lineas)\n",
        "        for r in range(len(lineas)):\n",
        "            lineaBis = lineas[r].strip().split(',')\n",
        "            for c in range( len(lineaBis)):\n",
        "                self.laberinto.set_item(r,c,lineaBis[c])\n",
        "\n",
        "        #buscar entradas\n",
        "        for r in range (self.laberinto.get_row_size()):\n",
        "            for c in range(self.laberinto.get_col_size()):\n",
        "                if self.laberinto.get_item(r,c) == 'E':\n",
        "                    self.camino.push((r,c))\n",
        "\n"
      ],
      "execution_count": 26,
      "outputs": []
    },
    {
      "cell_type": "code",
      "metadata": {
        "colab": {
          "base_uri": "https://localhost:8080/"
        },
        "id": "pqMPjGPDt1PI",
        "outputId": "a6b7479e-f6a2-45fe-d53e-ba826d7fd42a"
      },
      "source": [
        "juego = LaberintoADT('entrada.txt')"
      ],
      "execution_count": 27,
      "outputs": [
        {
          "output_type": "stream",
          "name": "stdout",
          "text": [
            "['P', 'P', 'P', 'P', 'P']\n",
            "['P', 'P', 'C', 'C', 'S']\n",
            "['P', 'C', 'C', 'P', 'P']\n",
            "['P', 'P', 'C', 'P', 'P']\n",
            "['P', 'P', 'E', 'P', 'P']\n",
            "Stack\n"
          ]
        }
      ]
    }
  ]
}