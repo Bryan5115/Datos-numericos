{
  "nbformat": 4,
  "nbformat_minor": 0,
  "metadata": {
    "colab": {
      "name": "Tarea6.ipynb",
      "provenance": [],
      "collapsed_sections": [],
      "authorship_tag": "ABX9TyPOA98OpIORr9I1bcNZQ2a1",
      "include_colab_link": true
    },
    "kernelspec": {
      "name": "python3",
      "display_name": "Python 3"
    },
    "language_info": {
      "name": "python"
    }
  },
  "cells": [
    {
      "cell_type": "markdown",
      "metadata": {
        "id": "view-in-github",
        "colab_type": "text"
      },
      "source": [
        "<a href=\"https://colab.research.google.com/github/Bryan5115/Datos-numericos/blob/main/Tarea6.ipynb\" target=\"_parent\"><img src=\"https://colab.research.google.com/assets/colab-badge.svg\" alt=\"Open In Colab\"/></a>"
      ]
    },
    {
      "cell_type": "code",
      "metadata": {
        "colab": {
          "base_uri": "https://localhost:8080/"
        },
        "id": "Q6OoZOEfC0v3",
        "outputId": "6e8a9394-a4c9-4a34-e62a-c8e63ba86c2d"
      },
      "source": [
        "!pip install simple_chalk"
      ],
      "execution_count": 36,
      "outputs": [
        {
          "output_type": "stream",
          "name": "stdout",
          "text": [
            "Collecting simple_chalk\n",
            "  Downloading simple_chalk-0.1.0.tar.gz (13 kB)\n",
            "Building wheels for collected packages: simple-chalk\n",
            "  Building wheel for simple-chalk (setup.py) ... \u001b[?25l\u001b[?25hdone\n",
            "  Created wheel for simple-chalk: filename=simple_chalk-0.1.0-py3-none-any.whl size=22163 sha256=104d7d47449fbeb146e4bbf78cc4ba68a0a057651984bdc199537e614ebd5fab\n",
            "  Stored in directory: /root/.cache/pip/wheels/24/e2/84/d54838032016039eef79df1137b91defaa6db068d825dfcdcd\n",
            "Successfully built simple-chalk\n",
            "Installing collected packages: simple-chalk\n",
            "Successfully installed simple-chalk-0.1.0\n"
          ]
        }
      ]
    },
    {
      "cell_type": "code",
      "metadata": {
        "id": "_fvzLmhr8ynE"
      },
      "source": [
        "class Array2D():\n",
        "\n",
        "  def __init__(self, ren, col):\n",
        "    self.__columnas = col\n",
        "    self.__renglones = ren\n",
        "    self.__data = [[ 0 for i in range(col)]for i in range (ren)]\n",
        "\n",
        "  def to_string(self):\n",
        "    for i in range(self.__renglones):\n",
        "      print(self.__data[i])\n",
        "\n",
        "  def clear(self, dato):\n",
        "    for i in range(self.__renglones):\n",
        "      for x in range(self.__columnas):\n",
        "        self.__data[i][x] = dato\n",
        "\n",
        "  def get_row_size(self):\n",
        "    return (self.__renglones)\n",
        "\n",
        "  def get_col_size(self):\n",
        "    return (self.__columnas)\n",
        "\n",
        "  def set_item(self,ren,col,dato):\n",
        "    self.__data[ren][col] = dato\n",
        "\n",
        "  def get_item(self,ren,col):\n",
        "    return self.__data[ren][col]"
      ],
      "execution_count": 37,
      "outputs": []
    },
    {
      "cell_type": "code",
      "metadata": {
        "colab": {
          "base_uri": "https://localhost:8080/"
        },
        "id": "GjayAV5q-mSG",
        "outputId": "0de4871e-c33f-4ad6-c8c8-fc1da507e432"
      },
      "source": [
        "tablero = Array2D(6,5)\n",
        "tablero.to_string()\n",
        "tablero.clear('M')\n",
        "print(\"----Población inicial----\")\n",
        "tablero.to_string()\n",
        "\n",
        "print(\"----idea establecer población inicial---\")\n",
        "poblacion_inicial = [(2,2), (3,1), (3,2), (3,3)]\n",
        "\n",
        "for par in poblacion_inicial:\n",
        "    tablero.set_item(par[0], par[1], 'V')\n",
        "\n",
        "tablero.to_string()\n",
        "\n",
        "#ESTO NO SE DEBE DE HACER, PORQUE ES DIFICIL DARLE MANTENIMIENTO\n",
        "print(tablero.get_col_size())\n",
        "print(tablero.get_row_size())\n",
        "\n",
        "celula = tablero.get_item(2,1)\n",
        "print(celula)\n",
        "\n",
        "celula = tablero.get_item(2,2)\n",
        "print(celula)"
      ],
      "execution_count": 38,
      "outputs": [
        {
          "output_type": "stream",
          "name": "stdout",
          "text": [
            "[0, 0, 0, 0, 0]\n",
            "[0, 0, 0, 0, 0]\n",
            "[0, 0, 0, 0, 0]\n",
            "[0, 0, 0, 0, 0]\n",
            "[0, 0, 0, 0, 0]\n",
            "[0, 0, 0, 0, 0]\n",
            "----Población inicial----\n",
            "['M', 'M', 'M', 'M', 'M']\n",
            "['M', 'M', 'M', 'M', 'M']\n",
            "['M', 'M', 'M', 'M', 'M']\n",
            "['M', 'M', 'M', 'M', 'M']\n",
            "['M', 'M', 'M', 'M', 'M']\n",
            "['M', 'M', 'M', 'M', 'M']\n",
            "----idea establecer población inicial---\n",
            "['M', 'M', 'M', 'M', 'M']\n",
            "['M', 'M', 'M', 'M', 'M']\n",
            "['M', 'M', 'V', 'M', 'M']\n",
            "['M', 'V', 'V', 'V', 'M']\n",
            "['M', 'M', 'M', 'M', 'M']\n",
            "['M', 'M', 'M', 'M', 'M']\n",
            "5\n",
            "6\n",
            "M\n",
            "V\n"
          ]
        }
      ]
    },
    {
      "cell_type": "markdown",
      "metadata": {
        "id": "le2CfQLyJWyL"
      },
      "source": [
        "## ¿COMO DEBERIA PROGRAMARSE EL JUEGO DE LA VIDA?\n",
        "\n",
        "#### R.- Programar un ADT especifico para empaquetar la lógica del Juego de la vida"
      ]
    },
    {
      "cell_type": "code",
      "metadata": {
        "id": "Ro_E_2ntJkld"
      },
      "source": [
        "\"\"\"\n",
        "En el constructor:\n",
        "  lista_pob_inicial es una lista de tuplas que contiene las condenadas\n",
        "  ((ren,col)) de las celulas vivas en la poblacion inicial\n",
        "\"\"\"\n",
        "\n",
        "class JuegoDeLaVidaADT:\n",
        "    def __init__(self,rens,cols,lista_pob_inicial, generaciones):\n",
        "        self.tablero = Array2D(rens,cols)\n",
        "        self.generaciones = generaciones\n",
        "        self.gen = 1\n",
        "        self.reng = rens\n",
        "        self.colm = cols \n",
        "        self.tablero.clear('M')\n",
        "        for par in lista_pob_inicial:\n",
        "            self.tablero.set_item(par[0], par[1], 'V')\n",
        "        self.ctablero()\n",
        "\n",
        "    def tamanio( self ):\n",
        "      tamanio = self.tablero.get_info()\n",
        "\n",
        "      for i in range( len(tamanio) ):\n",
        "          ren = tamanio[i]\n",
        "          str = ' '\n",
        "          for i in range( len( ren )):\n",
        "            if ren[i] == 'M':\n",
        "                str = str + chalk.red( ren[i] ) + ' '\n",
        "            elif ren[i] == 'V':\n",
        "                str = str + chalk.green( ren[i] ) + ' '\n",
        "          print(str)\n",
        "\n",
        "    def to_string(self):\n",
        "        print(f\"----GENERACIÓN {self.gen}\")\n",
        "        self.tablero.to_string()\n",
        "\n",
        "    \"\"\"\n",
        "    get_vecinos(r,c)\n",
        "    va a calcular los vecinos de la celula en la pos. r,c\n",
        "    y regresara las coordenadas de los mismos\n",
        "\n",
        "    get_vecinos(0,0) --> [(0,1), (1,0), (1,1)]\n",
        "    get_vecinos(2,1) --> [(1,0), (1,1), (1,2),(2,0), (2,2), (3,0),(3,1),(3,2)]\n",
        "\n",
        "    \"\"\"\n",
        "\n",
        "    def get_vecinos(self, r,c):\n",
        "        vecinos = []\n",
        "        for ren in range(r-1, r+2, 1):\n",
        "            for col in range(c-1,c+2,1):\n",
        "                if ren < 0 or ren >= self.tablero.get_row_size() or col < 0 or col >= self.tablero.get_col_size() or (ren==r and col==c):\n",
        "                    pass \n",
        "                else:\n",
        "                    vecinos.append((ren,col))\n",
        "        return vecinos\n",
        "                \n",
        "    \"\"\"\n",
        "    get_vecinos_vivos(r,c)\n",
        "    \"\"\"  \n",
        "\n",
        "    def get_vecinos_vivos(self, r,c):\n",
        "        vivos = 0\n",
        "        vecinos = self.get_vecinos(r,c)\n",
        "        for par in vecinos:\n",
        "            if self.tablero.get_item(par[0], par[1]) == 'V':\n",
        "                vivos += 1\n",
        "        return vivos\n",
        "    \n",
        "\n",
        "    def ctablero( self ):\n",
        "      cob = []\n",
        "      for reng in range( self.reng ):\n",
        "        for colm in range( self.colm ):\n",
        "                caw = [ reng, colm ]\n",
        "                cob.append(caw)\n",
        "        self.cob = caw\n",
        "\n",
        "    \"\"\"\n",
        "    recorrer todo el grid para aplicar las 4 reglas por\n",
        "    celula, ir agregando el resultado en una copia del tablero original\n",
        "    al final susituir el tablero general por el local.\n",
        "    \"\"\"\n",
        "    def aplicar_reglas(self):\n",
        "        nuevaGeneracion = []\n",
        "        \n",
        "        for caw in self.cob:\n",
        "          Vecvivos = self.get_vecinos_vivos(caw[0], caw[1])\n",
        "          gener = self.tablero.get_item( caw[0], caw[1] )\n",
        "\n",
        "          if gener == 'V':\n",
        "              if Vecvivos == 2 or Vecvivos == 3:\n",
        "                    nuevaGeneracion.append('V')\n",
        "              if Vecvivos == 1 or Vecvivos == 0:\n",
        "                    nuevaGeneracion.append('M')\n",
        "              if Vecvivos >= 4 :\n",
        "                    nuevaGeneracion.append('M')\n",
        "          if gener  == 'M':\n",
        "                if Vecvivos == 3 :\n",
        "                    nuevaGeneracion.append('V')\n",
        "                else:\n",
        "                    nuevaGeneracion.append('M')\n",
        "\n",
        "        for caw in self.cob:\n",
        "            self.tablero.set_item( caw[0], caw[1] ,nuevaGeneracion[0])\n",
        "            nuevaGeneracion.pop( 0 )\n",
        "\n",
        "        self.gen += 1"
      ],
      "execution_count": 39,
      "outputs": []
    },
    {
      "cell_type": "code",
      "metadata": {
        "colab": {
          "base_uri": "https://localhost:8080/"
        },
        "id": "gYZTnBb5McD9",
        "outputId": "117f00f3-a8ec-4491-a43a-8973074d7a37"
      },
      "source": [
        "juego = JuegoDeLaVidaADT(6,5,[(2,2), (3,1), (3,2), (3,3)], 5)\n",
        "juego.to_string()\n",
        "print(\"vecinos de 2,2\")\n",
        "print(juego.get_vecinos (5,4))\n",
        "r= 2\n",
        "c= 2\n",
        "print(f\"Vecinos vivos de {r},{c} son {juego.get_vecinos_vivos(r,c)}\")"
      ],
      "execution_count": 42,
      "outputs": [
        {
          "output_type": "stream",
          "name": "stdout",
          "text": [
            "----GENERACIÓN 1\n",
            "['M', 'M', 'M', 'M', 'M']\n",
            "['M', 'M', 'M', 'M', 'M']\n",
            "['M', 'M', 'V', 'M', 'M']\n",
            "['M', 'V', 'V', 'V', 'M']\n",
            "['M', 'M', 'M', 'M', 'M']\n",
            "['M', 'M', 'M', 'M', 'M']\n",
            "vecinos de 2,2\n",
            "[(4, 3), (4, 4), (5, 3)]\n",
            "Vecinos vivos de 2,2 son 3\n"
          ]
        }
      ]
    },
    {
      "cell_type": "code",
      "metadata": {
        "colab": {
          "base_uri": "https://localhost:8080/"
        },
        "id": "I7Bs4-BbDYfS",
        "outputId": "95e87003-f810-46b6-9fee-a41aad5a6341"
      },
      "source": [
        "from simple_chalk import chalk, green, red\n",
        "\n",
        "nombre = \"jose\"\n",
        "edad = 19\n",
        "print(nombre)\n",
        "print(edad)\n",
        "\n",
        "print(chalk.green(nombre))\n",
        "print(chalk.blue.bgWhite(edad))"
      ],
      "execution_count": null,
      "outputs": [
        {
          "output_type": "stream",
          "name": "stdout",
          "text": [
            "jose\n",
            "19\n",
            "\u001b[32mjose\u001b[0m\n",
            "\u001b[34;47m19\u001b[0m\n"
          ]
        }
      ]
    }
  ]
}