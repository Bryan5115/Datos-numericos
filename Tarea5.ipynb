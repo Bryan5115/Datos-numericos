{
  "nbformat": 4,
  "nbformat_minor": 0,
  "metadata": {
    "colab": {
      "name": "Untitled3.ipynb",
      "provenance": [],
      "collapsed_sections": [],
      "authorship_tag": "ABX9TyOW3NVfReSG2w58HWQjxcXK",
      "include_colab_link": true
    },
    "kernelspec": {
      "name": "python3",
      "display_name": "Python 3"
    },
    "language_info": {
      "name": "python"
    }
  },
  "cells": [
    {
      "cell_type": "markdown",
      "metadata": {
        "id": "view-in-github",
        "colab_type": "text"
      },
      "source": [
        "<a href=\"https://colab.research.google.com/github/Bryan5115/Datos-numericos/blob/main/Tarea5.ipynb\" target=\"_parent\"><img src=\"https://colab.research.google.com/assets/colab-badge.svg\" alt=\"Open In Colab\"/></a>"
      ]
    },
    {
      "cell_type": "code",
      "metadata": {
        "id": "_fvzLmhr8ynE"
      },
      "source": [
        "class Array2D():\n",
        "\n",
        "  def __init__(self, ren, col):\n",
        "    self.__columnas = col\n",
        "    self.__renglones = ren\n",
        "    self.__data = [[ 0 for i in range(col)]for i in range (ren)]\n",
        "\n",
        "  def to_string(self):\n",
        "    for i in range(self.__renglones):\n",
        "      print(self.__data[i])\n",
        "\n",
        "  def clear(self, dato):\n",
        "    for i in range(self.__renglones):\n",
        "      for x in range(self.__columnas):\n",
        "        self.__data[i][x] = dato\n",
        "\n",
        "  def get_row_size(self):\n",
        "    return (self.__renglones)\n",
        "\n",
        "  def get_col_size(self):\n",
        "    return (self.__columnas)\n",
        "\n",
        "  def set_item(self,ren,col,dato):\n",
        "    self.__data[ren][col] = dato\n",
        "\n",
        "  def get_item(self,ren,col):\n",
        "    return self.__data[ren][col]"
      ],
      "execution_count": null,
      "outputs": []
    },
    {
      "cell_type": "code",
      "metadata": {
        "colab": {
          "base_uri": "https://localhost:8080/"
        },
        "id": "GjayAV5q-mSG",
        "outputId": "b9aefdf4-ec7c-4024-cc54-df5fd8a0e187"
      },
      "source": [
        "tablero = Array2D(6,5)\n",
        "tablero.to_string()\n",
        "tablero.clear('M')\n",
        "print(\"----Población inicial----\")\n",
        "tablero.to_string()\n",
        "\n",
        "print(\"----idea establecer población inicial---\")\n",
        "poblacion_inicial = [(2,2), (3,1), (3,2), (3,3)]\n",
        "\n",
        "for par in poblacion_inicial:\n",
        "    tablero.set_item(par[0], par[1], 'V')\n",
        "\n",
        "tablero.to_string()\n",
        "\n",
        "#ESTO NO SE DEBE DE HACER, PORQUE ES DIFICIL DARLE MANTENIMIENTO\n",
        "print(tablero.get_col_size())\n",
        "print(tablero.get_row_size())\n",
        "\n",
        "celula = tablero.get_item(2,1)\n",
        "print(celula)\n",
        "\n",
        "celula = tablero.get_item(2,2)\n",
        "print(celula)"
      ],
      "execution_count": null,
      "outputs": [
        {
          "output_type": "stream",
          "name": "stdout",
          "text": [
            "[0, 0, 0, 0, 0]\n",
            "[0, 0, 0, 0, 0]\n",
            "[0, 0, 0, 0, 0]\n",
            "[0, 0, 0, 0, 0]\n",
            "[0, 0, 0, 0, 0]\n",
            "[0, 0, 0, 0, 0]\n",
            "----Población inicial----\n",
            "['M', 'M', 'M', 'M', 'M']\n",
            "['M', 'M', 'M', 'M', 'M']\n",
            "['M', 'M', 'M', 'M', 'M']\n",
            "['M', 'M', 'M', 'M', 'M']\n",
            "['M', 'M', 'M', 'M', 'M']\n",
            "['M', 'M', 'M', 'M', 'M']\n",
            "----idea establecer población inicial---\n",
            "['M', 'M', 'M', 'M', 'M']\n",
            "['M', 'M', 'M', 'M', 'M']\n",
            "['M', 'M', 'V', 'M', 'M']\n",
            "['M', 'V', 'V', 'V', 'M']\n",
            "['M', 'M', 'M', 'M', 'M']\n",
            "['M', 'M', 'M', 'M', 'M']\n",
            "5\n",
            "6\n",
            "M\n",
            "V\n"
          ]
        }
      ]
    },
    {
      "cell_type": "markdown",
      "metadata": {
        "id": "le2CfQLyJWyL"
      },
      "source": [
        "## ¿COMO DEBERIA PROGRAMARSE EL JUEGO DE LA VIDA?\n",
        "\n",
        "#### R.- Programar un ADT especifico para empaquetar la lógica del Juego de la vida"
      ]
    },
    {
      "cell_type": "code",
      "metadata": {
        "id": "Ro_E_2ntJkld"
      },
      "source": [
        "\"\"\"\n",
        "En el constructor:\n",
        "  lista_pob_inicial es una lista de tuplas que contiene las condenadas\n",
        "  ((ren,col)) de las celulas vivas en la poblacion inicial\n",
        "\"\"\"\n",
        "\n",
        "class JuegoDeLaVidaADT:\n",
        "    def __init__(self,rens,cols,lista_pob_inicial, generaciones):\n",
        "        self.tablero = Array2D(rens,cols)\n",
        "        self.generaciones = generaciones\n",
        "        self.gen = 1\n",
        "        self.tablero.clear('M')\n",
        "        for par in lista_pob_inicial:\n",
        "            self.tablero.set_item(par[0], par[1], 'V')\n",
        "    \n",
        "    def to_string(self):\n",
        "        print(f\"----GENERACIÓN {self.gen}\")\n",
        "        self.tablero.to_string()\n",
        "\n",
        "    \"\"\"\n",
        "    get_vecinos(r,c)\n",
        "    va a calcular los vecinos de la celula en la pos. r,c\n",
        "    y regresara las coordenadas de los mismos\n",
        "\n",
        "    get_vecinos(0,0) --> [(0,1), (1,0), (1,1)]\n",
        "    get_vecinos(2,1) --> [(1,0), (1,1), (1,2),(2,0), (2,2), (3,0),(3,1),(3,2)]\n",
        "\n",
        "    \"\"\"\n",
        "\n",
        "    def get_vecinos(r,c):\n",
        "        vecinos = []\n",
        "        for ren in range(r-1, r+1, 1):\n",
        "            for col in range(c-1,c+1,1):\n",
        "                if ren < 0 and ren > 4:\n",
        "                  print(\"Fuera de limite\")\n",
        "                if col < 0 and col > 4:\n",
        "                  print(\"Fuera de limite\")\n",
        "                \n",
        "\n",
        "\"\"\"\n",
        "get_vecinos_vivos(r,c)\n",
        "\"\"\"  \n",
        "\n",
        "    def get_vecinos_vivos(self,r,c):\n",
        "        vivos = 0\n",
        "        for i in range(get_vecinos):\n",
        "        return vivos"
      ],
      "execution_count": null,
      "outputs": []
    },
    {
      "cell_type": "code",
      "metadata": {
        "colab": {
          "base_uri": "https://localhost:8080/"
        },
        "id": "gYZTnBb5McD9",
        "outputId": "bbfc9777-380c-4f8d-d774-aebff41bd310"
      },
      "source": [
        "juego = JuegoDeLaVidaADT(6,5,[(2,2), (3,1), (3,2), (3,3)], 5)\n",
        "juego.to_string()"
      ],
      "execution_count": null,
      "outputs": [
        {
          "output_type": "stream",
          "name": "stdout",
          "text": [
            "----GENERACIÓN 1\n",
            "['M', 'M', 'M', 'M', 'M']\n",
            "['M', 'M', 'M', 'M', 'M']\n",
            "['M', 'M', 'V', 'M', 'M']\n",
            "['M', 'V', 'V', 'V', 'M']\n",
            "['M', 'M', 'M', 'M', 'M']\n",
            "['M', 'M', 'M', 'M', 'M']\n"
          ]
        }
      ]
    }
  ]
}