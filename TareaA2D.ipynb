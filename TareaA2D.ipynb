{
  "nbformat": 4,
  "nbformat_minor": 0,
  "metadata": {
    "colab": {
      "name": "TareaA2D.ipynb",
      "provenance": [],
      "authorship_tag": "ABX9TyO9IoxpX63waoFOVRnX/+e1",
      "include_colab_link": true
    },
    "kernelspec": {
      "name": "python3",
      "display_name": "Python 3"
    },
    "language_info": {
      "name": "python"
    }
  },
  "cells": [
    {
      "cell_type": "markdown",
      "metadata": {
        "id": "view-in-github",
        "colab_type": "text"
      },
      "source": [
        "<a href=\"https://colab.research.google.com/github/Bryan5115/Datos-numericos/blob/main/TareaA2D.ipynb\" target=\"_parent\"><img src=\"https://colab.research.google.com/assets/colab-badge.svg\" alt=\"Open In Colab\"/></a>"
      ]
    },
    {
      "cell_type": "code",
      "metadata": {
        "id": "-zmJkHP09mS-"
      },
      "source": [
        "class Array2D():\n",
        "    def __init__(col,ren):\n",
        "        self.__tamano = tamano\n",
        "        self.__data = [0 for x in range(self.__tamano)]\n",
        "\n",
        "    def get_item(col,ren):\n",
        "        return self.__data[ index ]\n",
        "\n",
        "    def to_string(self):\n",
        "        print(self.__data)\n",
        "    \n",
        "    def set_item(ren,col , dato):\n",
        "        if self.__check_limits__(index):\n",
        "            self.__data[index]= dato\n",
        "        else:\n",
        "            raise Exception('Error de limites en index')\n",
        "\n",
        "    def clear(col,ren):\n",
        "        self.__data = [ valor for x in range(self.__tamano) ]\n",
        "\n",
        "    def get_row_size(ren):\n",
        "        print(ren)\n",
        "\n",
        "    def get_col_size(col):\n",
        "        print(col)\n",
        "\n",
        "    def __check_limits__(col, ren):\n",
        "        return index >=0 and index < self.__tamano\n"
      ],
      "execution_count": 2,
      "outputs": []
    },
    {
      "cell_type": "code",
      "metadata": {
        "id": "9vxxTHRpKbJG"
      },
      "source": [
        "info = Array2D(3,4)\n",
        "info.set_item(1,3,Persona \"Jose\")\n",
        "info.set_item(2,3,Persona \"diana\")\n",
        "print(info.get_row_size())\n",
        "print(info.get_col_size())\n",
        "print(info.get_item(2,2))\n",
        "print(info.to_string())\n",
        "info.clear(None)"
      ],
      "execution_count": null,
      "outputs": []
    }
  ]
}