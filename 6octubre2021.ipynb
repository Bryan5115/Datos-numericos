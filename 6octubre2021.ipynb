{
  "nbformat": 4,
  "nbformat_minor": 0,
  "metadata": {
    "colab": {
      "name": "Untitled4.ipynb",
      "provenance": [],
      "authorship_tag": "ABX9TyN1z4m8L6HKQw+AphfMXVKP",
      "include_colab_link": true
    },
    "kernelspec": {
      "name": "python3",
      "display_name": "Python 3"
    },
    "language_info": {
      "name": "python"
    }
  },
  "cells": [
    {
      "cell_type": "markdown",
      "metadata": {
        "id": "view-in-github",
        "colab_type": "text"
      },
      "source": [
        "<a href=\"https://colab.research.google.com/github/Bryan5115/Datos-numericos/blob/main/6octubre2021.ipynb\" target=\"_parent\"><img src=\"https://colab.research.google.com/assets/colab-badge.svg\" alt=\"Open In Colab\"/></a>"
      ]
    },
    {
      "cell_type": "code",
      "metadata": {
        "id": "h7dJVbq2R7Ly"
      },
      "source": [
        "class Nodo:\n",
        "    def __init__(self, value, siguiente=None):\n",
        "        self.data = value\n",
        "        self.next = siguiente\n"
      ],
      "execution_count": 3,
      "outputs": []
    },
    {
      "cell_type": "code",
      "metadata": {
        "colab": {
          "base_uri": "https://localhost:8080/"
        },
        "id": "_7Ry1d55Thsn",
        "outputId": "df24690d-827b-434b-813f-4936d29c075b"
      },
      "source": [
        "head = Nodo(30)\n",
        "print(head.data)\n",
        "print(head.next)\n",
        "\n",
        "print(\"------Segundo Head------\")\n",
        "head2 = Nodo(20)\n",
        "head2.next = Nodo(15)\n",
        "print(head2.next.data)\n",
        "print(head2.data)\n",
        "\n",
        "print(\"Hacer lo mismo pero con el segundo metodo\")\n",
        "\n",
        "head2 = Nodo(20, Nodo(15))\n",
        "\n",
        "print(head2.next.data)\n",
        "print(head2.data)"
      ],
      "execution_count": 16,
      "outputs": [
        {
          "output_type": "stream",
          "name": "stdout",
          "text": [
            "30\n",
            "None\n",
            "------Segundo Head------\n",
            "15\n",
            "20\n",
            "Hacer lo mismo pero con el segundo metodo\n",
            "15\n",
            "20\n"
          ]
        }
      ]
    }
  ]
}